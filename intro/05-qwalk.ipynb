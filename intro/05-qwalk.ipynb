{
 "cells": [
  {
   "cell_type": "code",
   "execution_count": null,
   "metadata": {},
   "outputs": [],
   "source": [
    "# Access the autogen libraries.\n",
    "import sys\n",
    "sys.path.append('..')"
   ]
  },
  {
   "cell_type": "markdown",
   "metadata": {},
   "source": [
    "# Trial wave functions and QMC job management.\n",
    "This notebook walks through the process of building a QWalk job. \n",
    "A few notes:\n",
    "* A QWalk writer, reader, and runner will work exactly the same as corresponding PySCF objects.\n",
    "* A QWalk manager will handle waiting for other runs to finish, and converting the files into a trial wave function."
   ]
  },
  {
   "cell_type": "markdown",
   "metadata": {},
   "source": [
    "### Setting up the trial wave function calculation.\n",
    "For the hydrogen run, let's optimize a Slater-Jastrow wave function with QWalk variance optimization.\n",
    "First step is setting up the mean field calculation."
   ]
  },
  {
   "cell_type": "code",
   "execution_count": null,
   "metadata": {},
   "outputs": [],
   "source": [
    "from autopyscf import PySCFWriter,PySCFReader\n",
    "from autorunner import PySCFRunnerLocal\n",
    "from pyscfmanager import PySCFManager\n",
    "\n",
    "h2='\\n'.join([\n",
    "    'H 0.0 0.0 0.0 ',\n",
    "    'H 0.74 0.0 0.0 '\n",
    "])\n",
    "path='05-scratch'\n",
    "\n",
    "# This is covered in 04-job_management.\n",
    "pyscf_manager = PySCFManager(\n",
    "    path=path,\n",
    "    name='h2_pbe',\n",
    "    writer=PySCFWriter({\n",
    "        'xyz':h2,\n",
    "        'method':'RKS',\n",
    "        'dft':'pbe,pbe'}),\n",
    "    runner=PySCFRunnerLocal()\n",
    ")"
   ]
  },
  {
   "cell_type": "markdown",
   "metadata": {},
   "source": [
    "The PySCF calculation is defined, but so far no calculations have been started.\n",
    "\n",
    "QWalk writers can take explicit trial wave function input (as a string), but autogen can also handle it for you.\n",
    "Make a `TrialFunc` object with the manager you want to generate the trial wave function."
   ]
  },
  {
   "cell_type": "code",
   "execution_count": null,
   "metadata": {},
   "outputs": [],
   "source": [
    "from trialfunc import SlaterJastrow\n",
    "sj=SlaterJastrow(pyscf_manager)"
   ]
  },
  {
   "cell_type": "markdown",
   "metadata": {},
   "source": [
    "### Setting up the QWalk run.\n",
    "Now we can set up the corresponding objects for QWalk."
   ]
  },
  {
   "cell_type": "code",
   "execution_count": null,
   "metadata": {},
   "outputs": [],
   "source": [
    "from variance import VarianceWriter,VarianceReader\n",
    "from autorunner import RunnerLocal\n",
    "from qwalkmanager import QWalkManager\n",
    "from imp import reload\n",
    "import time\n",
    "\n",
    "vopt_writer = VarianceWriter({'iterations':6})\n",
    "\n",
    "vopt_manager = QWalkManager(\n",
    "    name='h2_vopt',\n",
    "    path=path,\n",
    "    writer=vopt_writer,\n",
    "    runner=RunnerLocal(np=4),\n",
    "    reader=VarianceReader(),\n",
    "    trialfunc=sj # This is new!\n",
    ")\n",
    "while not vopt_manager.completed:\n",
    "    vopt_manager.nextstep()"
   ]
  },
  {
   "cell_type": "markdown",
   "metadata": {},
   "source": [
    "So what just happened here? \n",
    "After setting up the calculation, we called `nextstep` repeatedly and the QWalk manager:\n",
    "* Noticed the PySCF run was not complete, and ran the PySCF run.\n",
    "* The PySCF run exported the qwalk files needed by QWalk.\n",
    "* The `QWalkManager` generated its imput files using the files from PySCF.\n",
    "* `QWalkManager` ran QWalk and collected the QWalk results.\n",
    "\n",
    "The TrialFunc objects are meant to be modular and flexible. \n",
    "You can build TrialFunc objects in a variety of ways, which the next notebook will demonstrate."
   ]
  },
  {
   "cell_type": "markdown",
   "metadata": {},
   "source": [
    "# Next: building different trial functions (06-trialfunctions.ipynb)."
   ]
  },
  {
   "cell_type": "code",
   "execution_count": null,
   "metadata": {},
   "outputs": [],
   "source": []
  }
 ],
 "metadata": {
  "kernelspec": {
   "display_name": "Python 3",
   "language": "python",
   "name": "python3"
  },
  "language_info": {
   "codemirror_mode": {
    "name": "ipython",
    "version": 3
   },
   "file_extension": ".py",
   "mimetype": "text/x-python",
   "name": "python",
   "nbconvert_exporter": "python",
   "pygments_lexer": "ipython3",
   "version": "3.5.2"
  }
 },
 "nbformat": 4,
 "nbformat_minor": 2
}
