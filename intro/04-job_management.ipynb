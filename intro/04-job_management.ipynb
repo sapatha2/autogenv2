{
 "cells": [
  {
   "cell_type": "code",
   "execution_count": null,
   "metadata": {},
   "outputs": [],
   "source": [
    "# Access the autogen libraries.\n",
    "import sys\n",
    "sys.path.append('..')"
   ]
  },
  {
   "cell_type": "markdown",
   "metadata": {},
   "source": [
    "# Run management.\n",
    "Up to this point, the tasks have been elementary: writing, running, and reading a single task.\n",
    "The next step is to combine some of these tasks, and manage the files for the run. \n",
    "This is what the manager is for.\n",
    "\n",
    "Explicitly, the manager:\n",
    "* Stores the writer, reader, and runner on disk for after the script finishes.\n",
    "* Keeps track of file names and locations.\n",
    "* Communicates between these objects so you don't have to keep track of what is named what.\n",
    "\n",
    "Let's stick with the hydrogen example."
   ]
  },
  {
   "cell_type": "markdown",
   "metadata": {},
   "source": [
    "### Manager for hydrogen DFT run.\n",
    "The job of this manager is to give you DFT results for the hydrogen molecule. \n",
    "It has three \"subordinates\" at its disposal: the writer, the reader, and the runner from the last three notebooks.\n",
    "\n",
    "First, lets set these elementary parts up."
   ]
  },
  {
   "cell_type": "code",
   "execution_count": null,
   "metadata": {},
   "outputs": [],
   "source": [
    "from autopyscf import PySCFWriter,PySCFReader\n",
    "from autorunner import PySCFRunnerLocal\n",
    "\n",
    "h2='\\n'.join([\n",
    "    'H 0.0 0.0 0.0 ',\n",
    "    'H 0.74 0.0 0.0 '\n",
    "])\n",
    "\n",
    "# The three components we've seen already:\n",
    "pyscf_writer = PySCFWriter({\n",
    "    'xyz':h2,\n",
    "    'method':'RKS',\n",
    "    'dft':'pbe,pbe'\n",
    "})\n",
    "pyscf_reader = PySCFReader()\n",
    "pyscf_runner = PySCFRunnerLocal()"
   ]
  },
  {
   "cell_type": "markdown",
   "metadata": {},
   "source": [
    "The manger needs to know what space it has to work. \n",
    "This is the `path` arguement.\n",
    "Data will be stored on disk at this location.\n",
    "\n",
    "The manager also needs to have a `name`.\n",
    "All filenames are generated based on the `name` you give it. \n",
    "You can have multiple managers with the same `path` so long as they have different `name`. "
   ]
  },
  {
   "cell_type": "code",
   "execution_count": null,
   "metadata": {},
   "outputs": [],
   "source": [
    "from pyscfmanager import PySCFManager\n",
    "pyscf_manager = PySCFManager(\n",
    "    path='04-scratch',\n",
    "    name='h2_pbe',\n",
    "    writer=pyscf_writer,\n",
    "    reader=pyscf_reader,\n",
    "    runner=pyscf_runner\n",
    ")"
   ]
  },
  {
   "cell_type": "markdown",
   "metadata": {},
   "source": [
    "The manager will also talk you though all the events that are happening. "
   ]
  },
  {
   "cell_type": "markdown",
   "metadata": {},
   "source": [
    "### Perfoming the next step.\n",
    "If you've made it this far, the rest is easy. \n",
    "Just keep calling `nextstep`. \n",
    "This automatically will call the routines of the reader, the runner, and the writer according to the current status of each of their results."
   ]
  },
  {
   "cell_type": "code",
   "execution_count": null,
   "metadata": {},
   "outputs": [],
   "source": [
    "pyscf_manager.nextstep()"
   ]
  },
  {
   "cell_type": "markdown",
   "metadata": {},
   "source": [
    "The manager had the input file written, and ran it using the runner.\n",
    "Let's check out the path."
   ]
  },
  {
   "cell_type": "code",
   "execution_count": null,
   "metadata": {},
   "outputs": [],
   "source": [
    "import os\n",
    "os.listdir(pyscf_manager.path)"
   ]
  },
  {
   "cell_type": "markdown",
   "metadata": {},
   "source": [
    "You can see a bunch of file were made in the `path` named according to `name`. \n",
    "`h2_pbe.pkl` is where all the objects are stored for future script runs.\n",
    "Any other instance of a manager with the same `name` and `path` will reload `h2_pbe.pkl` to recover all the properties and results that this run produces.\n",
    "\n",
    "Ok, now on to the next step, whatever that may be."
   ]
  },
  {
   "cell_type": "code",
   "execution_count": null,
   "metadata": {},
   "outputs": [],
   "source": [
    "pyscf_manager.nextstep()"
   ]
  },
  {
   "cell_type": "markdown",
   "metadata": {},
   "source": [
    "If the status was \"running\" go ahead and run that last cell again (the job was still in progress).\n",
    "\n",
    "Once the last cell reads \"ready_for_analysis\" that means the job has finished, and you can read in the results."
   ]
  },
  {
   "cell_type": "markdown",
   "metadata": {},
   "source": [
    "### Accessing the results.\n",
    "Well, this is just the same as when working with the reader object."
   ]
  },
  {
   "cell_type": "code",
   "execution_count": null,
   "metadata": {},
   "outputs": [],
   "source": [
    "pyscf_manager.reader.output.keys()"
   ]
  },
  {
   "cell_type": "markdown",
   "metadata": {},
   "source": [
    "### Multiple managers, same path.\n",
    "Managers are flexible in how you organize your work. \n",
    "Lets do another run in the same folder, but using the PBE0 DFT functional."
   ]
  },
  {
   "cell_type": "code",
   "execution_count": null,
   "metadata": {},
   "outputs": [],
   "source": [
    "from copy import deepcopy\n",
    "\n",
    "# Same thing,  but change the functional.\n",
    "pbe0_writer = deepcopy(pyscf_writer)\n",
    "pbe0_writer.set_options({'dft':'pbe0'})\n",
    "\n",
    "# deepcopy everything to prevent accidentally overwriting anything.\n",
    "pbe0_manager = PySCFManager(\n",
    "    path=pyscf_manager.path, # Will work in the same directory.\n",
    "    name='h2_pbe0',         # New name so that we can keep these results seperate.\n",
    "    writer=pbe0_writer,\n",
    "    reader=deepcopy(pyscf_reader),\n",
    "    runner=deepcopy(pyscf_runner)\n",
    ")"
   ]
  },
  {
   "cell_type": "code",
   "execution_count": null,
   "metadata": {},
   "outputs": [],
   "source": [
    "os.listdir(pbe0_manager.path)"
   ]
  },
  {
   "cell_type": "markdown",
   "metadata": {},
   "source": [
    "There are two `.pkl` files, one for each manager.\n",
    "The `name` is different, so they can live side-by-side."
   ]
  },
  {
   "cell_type": "markdown",
   "metadata": {},
   "source": [
    "# Next: Starting a QMC calculation (05-qwalk.ipynb)."
   ]
  },
  {
   "cell_type": "code",
   "execution_count": null,
   "metadata": {},
   "outputs": [],
   "source": []
  }
 ],
 "metadata": {
  "kernelspec": {
   "display_name": "Python 3",
   "language": "python",
   "name": "python3"
  },
  "language_info": {
   "codemirror_mode": {
    "name": "ipython",
    "version": 3
   },
   "file_extension": ".py",
   "mimetype": "text/x-python",
   "name": "python",
   "nbconvert_exporter": "python",
   "pygments_lexer": "ipython3",
   "version": "3.5.2"
  }
 },
 "nbformat": 4,
 "nbformat_minor": 2
}
