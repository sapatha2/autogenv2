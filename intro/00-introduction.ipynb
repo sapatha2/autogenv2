{
 "cells": [
  {
   "cell_type": "code",
   "execution_count": null,
   "metadata": {},
   "outputs": [],
   "source": [
    "# Access the autogen libraries.\n",
    "import sys\n",
    "sys.path.append('..')"
   ]
  },
  {
   "cell_type": "markdown",
   "metadata": {},
   "source": [
    "# Introduction to autogen.\n",
    "This notebook is meant to give an idea for what autogen is for, and why it might be useful to you.\n",
    "\n",
    "The purpose of autogen is to automate some of the mundane workflow tasks associated with running QMC.\n",
    "* Writing input files, keeping track of input parameters.\n",
    "* Reading and checking results are not completely unreasonable.\n",
    "* Running jobs in batch, waiting for them to finish.\n",
    "* Restarting jobs that need more time to finish.\n",
    "* Keeping track of data and where it comes from."
   ]
  },
  {
   "cell_type": "markdown",
   "metadata": {},
   "source": [
    "### Hydrogen example\n",
    "To illustrate how autogen is supposed to work, here's a simple example of an hydrogen molecule VMC run. \n",
    "\n",
    "To learn how to set up a run like this, you should check out the other notebooks, which walk step-by-step through how this works.\n",
    "For now, just glance over this code and check out the results."
   ]
  },
  {
   "cell_type": "code",
   "execution_count": null,
   "metadata": {},
   "outputs": [],
   "source": [
    "from autopyscf import PySCFWriter, PySCFReader, dm_set_spins\n",
    "from autorunner import PySCFRunnerLocal,RunnerLocal\n",
    "from trialfunc import SlaterJastrow\n",
    "from variance import VarianceWriter, VarianceReader\n",
    "from pyscfmanager import PySCFManager\n",
    "from qwalkmanager import QWalkManager\n",
    "\n",
    "path='00-scratch'\n",
    "\n",
    "# A hydrogen molecule.\n",
    "h2='\\n'.join([\n",
    "    'H 0.0 0.0 0.0 ',\n",
    "    'H 0.74 0.0 0.0 '\n",
    "])\n",
    "\n",
    "# Input parameters for SCF calculation.\n",
    "pyscf_writer=PySCFWriter({\n",
    "      'xyz':h2,\n",
    "      'dft':'pbe,pbe',\n",
    "      'spin':0,\n",
    "      'dm_generator':dm_set_spins([1,-1],[]),\n",
    "      'pyscf_path':sys.path\n",
    "    })  \n",
    "\n",
    "vmc_writer=VarianceWriter()\n",
    "\n",
    "# Manage the PySCF job.\n",
    "scfmanager=PySCFManager(\n",
    "    name='h2_pbe',\n",
    "    path=path,\n",
    "    writer=pyscf_writer,\n",
    "    runner=PySCFRunnerLocal()\n",
    "  )\n",
    "\n",
    "# Manage the VMC job.\n",
    "voptmanager=QWalkManager(\n",
    "      name='h2_vopt',\n",
    "      path=path,\n",
    "      writer=VarianceWriter(),\n",
    "      reader=VarianceReader(),\n",
    "      trialfunc=SlaterJastrow(scfmanager),\n",
    "      runner=RunnerLocal(np=4)\n",
    "    )"
   ]
  },
  {
   "cell_type": "code",
   "execution_count": null,
   "metadata": {},
   "outputs": [],
   "source": [
    "while not voptmanager.completed:\n",
    "    voptmanager.nextstep()"
   ]
  },
  {
   "cell_type": "code",
   "execution_count": null,
   "metadata": {},
   "outputs": [],
   "source": [
    "import matplotlib.pyplot as plt\n",
    "%matplotlib inline\n",
    "fig,ax=plt.subplots(1,1)\n",
    "ax.plot(voptmanager.reader.output['sigma'])\n",
    "ax.set_title('VMC variance optimization')\n",
    "ax.set_xlabel('VMC step')\n",
    "ax.set_ylabel('Standard Dev. (Ha)')"
   ]
  },
  {
   "cell_type": "markdown",
   "metadata": {},
   "source": [
    "# First step: writing the input (01-writing_input.ipynb)."
   ]
  }
 ],
 "metadata": {
  "kernelspec": {
   "display_name": "Python 3",
   "language": "python",
   "name": "python3"
  },
  "language_info": {
   "codemirror_mode": {
    "name": "ipython",
    "version": 3
   },
   "file_extension": ".py",
   "mimetype": "text/x-python",
   "name": "python",
   "nbconvert_exporter": "python",
   "pygments_lexer": "ipython3",
   "version": "3.5.2"
  }
 },
 "nbformat": 4,
 "nbformat_minor": 2
}
